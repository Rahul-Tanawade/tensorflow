{
  "nbformat": 4,
  "nbformat_minor": 0,
  "metadata": {
    "colab": {
      "name": "TiG_Tensorflow.ipynb",
      "provenance": [],
      "collapsed_sections": [],
      "authorship_tag": "ABX9TyNWDnOp1rHBbYzPkctxTDoF"
    },
    "kernelspec": {
      "name": "python3",
      "display_name": "Python 3"
    },
    "language_info": {
      "name": "python"
    }
  },
  "cells": [
    {
      "cell_type": "code",
      "metadata": {
        "colab": {
          "base_uri": "https://localhost:8080/"
        },
        "id": "kfwA-Cglcbx1",
        "outputId": "db999e23-4b28-4f49-ca49-d95d55291b9c"
      },
      "source": [
        "import tensorflow as tf\n",
        "print(tf.__version__)"
      ],
      "execution_count": 2,
      "outputs": [
        {
          "output_type": "stream",
          "text": [
            "2.6.0\n"
          ],
          "name": "stdout"
        }
      ]
    },
    {
      "cell_type": "code",
      "metadata": {
        "colab": {
          "base_uri": "https://localhost:8080/"
        },
        "id": "3fqX3Is8h9nh",
        "outputId": "c7ce8d2d-8dfc-4cd6-da89-87012d6f613c"
      },
      "source": [
        "#tensors are immutable.\n",
        "#tf.constant is immutable\n",
        "#tf.variable is muttable\n",
        "import tensorflow as tf\n",
        "x=tf.constant(4,shape=(2,2),dtype=tf.float32)\n",
        "print(x)"
      ],
      "execution_count": 50,
      "outputs": [
        {
          "output_type": "stream",
          "text": [
            "tf.Tensor(\n",
            "[[4. 4.]\n",
            " [4. 4.]], shape=(2, 2), dtype=float32)\n"
          ],
          "name": "stdout"
        }
      ]
    },
    {
      "cell_type": "code",
      "metadata": {
        "colab": {
          "base_uri": "https://localhost:8080/"
        },
        "id": "ajk_bPwZismh",
        "outputId": "c3b21e13-8ce9-4f64-c9e2-5f75631afd30"
      },
      "source": [
        "x=tf.constant([1,2,3])\n",
        "print(\"rank 1 \" ,x)\n",
        "\n",
        "y=tf.constant([[1,2,3],[4,5,6]])\n",
        "print(\"\\nrank 2 \" ,y)"
      ],
      "execution_count": 9,
      "outputs": [
        {
          "output_type": "stream",
          "text": [
            "rank 1  tf.Tensor([1 2 3], shape=(3,), dtype=int32)\n",
            "\n",
            "rank 2  tf.Tensor(\n",
            "[[1 2 3]\n",
            " [4 5 6]], shape=(2, 3), dtype=int32)\n"
          ],
          "name": "stdout"
        }
      ]
    },
    {
      "cell_type": "code",
      "metadata": {
        "colab": {
          "base_uri": "https://localhost:8080/"
        },
        "id": "dDjoMzC4jRmK",
        "outputId": "a1620c44-f30e-49e3-f944-4cb3c687b83e"
      },
      "source": [
        "x=tf.ones((3,3))\n",
        "print(\"\\n\",x)\n"
      ],
      "execution_count": 13,
      "outputs": [
        {
          "output_type": "stream",
          "text": [
            "\n",
            " tf.Tensor(\n",
            "[[1. 1. 1.]\n",
            " [1. 1. 1.]\n",
            " [1. 1. 1.]], shape=(3, 3), dtype=float32)\n"
          ],
          "name": "stdout"
        }
      ]
    },
    {
      "cell_type": "code",
      "metadata": {
        "colab": {
          "base_uri": "https://localhost:8080/"
        },
        "id": "4QSlMNPijvBT",
        "outputId": "2e73d294-d485-442f-b27e-a57493211871"
      },
      "source": [
        "y=tf.zeros((3,3))\n",
        "print(\"\\n\",y)"
      ],
      "execution_count": 14,
      "outputs": [
        {
          "output_type": "stream",
          "text": [
            "\n",
            " tf.Tensor(\n",
            "[[0. 0. 0.]\n",
            " [0. 0. 0.]\n",
            " [0. 0. 0.]], shape=(3, 3), dtype=float32)\n"
          ],
          "name": "stdout"
        }
      ]
    },
    {
      "cell_type": "code",
      "metadata": {
        "colab": {
          "base_uri": "https://localhost:8080/"
        },
        "id": "jkJimdD3jw5S",
        "outputId": "55914a1f-c4fc-4faa-85f6-b67bc98d0b41"
      },
      "source": [
        "y=tf.eye(3)\n",
        "print(\"\\n\",y)"
      ],
      "execution_count": 15,
      "outputs": [
        {
          "output_type": "stream",
          "text": [
            "\n",
            " tf.Tensor(\n",
            "[[1. 0. 0.]\n",
            " [0. 1. 0.]\n",
            " [0. 0. 1.]], shape=(3, 3), dtype=float32)\n"
          ],
          "name": "stdout"
        }
      ]
    },
    {
      "cell_type": "code",
      "metadata": {
        "colab": {
          "base_uri": "https://localhost:8080/"
        },
        "id": "tXAGxjZJkSEP",
        "outputId": "13f17f75-deff-4a06-c110-504348d21317"
      },
      "source": [
        "#uniform distribution\n",
        "x=tf.random.uniform((3,3),minval=5,maxval=10)\n",
        "print(x)"
      ],
      "execution_count": 17,
      "outputs": [
        {
          "output_type": "stream",
          "text": [
            "tf.Tensor(\n",
            "[[7.3431087 7.73428   9.655867 ]\n",
            " [8.817854  8.095016  8.011998 ]\n",
            " [6.1324816 6.510103  5.034176 ]], shape=(3, 3), dtype=float32)\n"
          ],
          "name": "stdout"
        }
      ]
    },
    {
      "cell_type": "code",
      "metadata": {
        "colab": {
          "base_uri": "https://localhost:8080/"
        },
        "id": "EXPT4akgkkIp",
        "outputId": "4f1c78bc-3a6a-4771-9498-297b4c415b35"
      },
      "source": [
        "x=tf.random.normal((3,3),mean=0,stddev=1)\n",
        "print(x)"
      ],
      "execution_count": 20,
      "outputs": [
        {
          "output_type": "stream",
          "text": [
            "tf.Tensor(\n",
            "[[-1.6000836   1.5180688  -0.29534656]\n",
            " [-0.5035204   0.87748307  0.7065382 ]\n",
            " [-0.5903469  -0.68926084  0.5069956 ]], shape=(3, 3), dtype=float32)\n"
          ],
          "name": "stdout"
        }
      ]
    },
    {
      "cell_type": "code",
      "metadata": {
        "colab": {
          "base_uri": "https://localhost:8080/"
        },
        "id": "C9wi6dFak9HQ",
        "outputId": "c6119dee-8425-4bd1-ad59-4f34aa068457"
      },
      "source": [
        "x=tf.range(10)\n",
        "print(x)\n",
        "\n",
        "y=tf.cast(x,dtype=tf.float32)\n",
        "print(y)"
      ],
      "execution_count": 22,
      "outputs": [
        {
          "output_type": "stream",
          "text": [
            "tf.Tensor([0 1 2 3 4 5 6 7 8 9], shape=(10,), dtype=int32)\n",
            "tf.Tensor([0. 1. 2. 3. 4. 5. 6. 7. 8. 9.], shape=(10,), dtype=float32)\n"
          ],
          "name": "stdout"
        }
      ]
    },
    {
      "cell_type": "code",
      "metadata": {
        "id": "Oc9_61mLla6-"
      },
      "source": [
        "#operations in tensorflow are elementwise\n",
        "a=tf.constant([1,2,3])\n",
        "b=tf.constant([4,5,6])"
      ],
      "execution_count": 23,
      "outputs": []
    },
    {
      "cell_type": "code",
      "metadata": {
        "colab": {
          "base_uri": "https://localhost:8080/"
        },
        "id": "qYaNIYO8mPt3",
        "outputId": "e49255f2-a13e-46fc-a237-ed573ad78688"
      },
      "source": [
        "c=a+b\n",
        "d=tf.add(a,b)\n",
        "\n",
        "print(c)\n",
        "print(\"\\n\\n\",d)"
      ],
      "execution_count": 24,
      "outputs": [
        {
          "output_type": "stream",
          "text": [
            "tf.Tensor([5 7 9], shape=(3,), dtype=int32)\n",
            "\n",
            "\n",
            " tf.Tensor([5 7 9], shape=(3,), dtype=int32)\n"
          ],
          "name": "stdout"
        }
      ]
    },
    {
      "cell_type": "code",
      "metadata": {
        "colab": {
          "base_uri": "https://localhost:8080/"
        },
        "id": "q9aMPx5SmPmy",
        "outputId": "7f867625-5344-426a-c675-a06f64668d00"
      },
      "source": [
        "c=a-b\n",
        "d=tf.subtract(a,b)\n",
        "\n",
        "print(c)\n",
        "print(\"\\n\\n\",d)"
      ],
      "execution_count": 25,
      "outputs": [
        {
          "output_type": "stream",
          "text": [
            "tf.Tensor([-3 -3 -3], shape=(3,), dtype=int32)\n",
            "\n",
            "\n",
            " tf.Tensor([-3 -3 -3], shape=(3,), dtype=int32)\n"
          ],
          "name": "stdout"
        }
      ]
    },
    {
      "cell_type": "code",
      "metadata": {
        "colab": {
          "base_uri": "https://localhost:8080/"
        },
        "id": "S4TeA2L4mq8p",
        "outputId": "1a64a9b5-660d-4cd6-af24-148a89e04888"
      },
      "source": [
        "c=a*b\n",
        "d=tf.multiply(a,b)\n",
        "\n",
        "print(c)\n",
        "print(\"\\n\\n\",d)"
      ],
      "execution_count": 26,
      "outputs": [
        {
          "output_type": "stream",
          "text": [
            "tf.Tensor([ 4 10 18], shape=(3,), dtype=int32)\n",
            "\n",
            "\n",
            " tf.Tensor([ 4 10 18], shape=(3,), dtype=int32)\n"
          ],
          "name": "stdout"
        }
      ]
    },
    {
      "cell_type": "code",
      "metadata": {
        "colab": {
          "base_uri": "https://localhost:8080/"
        },
        "id": "w0Gu4wBBmwdJ",
        "outputId": "42a8acb2-3660-4dba-87f3-14131397de63"
      },
      "source": [
        "c=a/b\n",
        "d=tf.divide(a,b)\n",
        "print(c)\n",
        "print(\"\\n\\n\",d)"
      ],
      "execution_count": 28,
      "outputs": [
        {
          "output_type": "stream",
          "text": [
            "tf.Tensor([0.25 0.4  0.5 ], shape=(3,), dtype=float64)\n",
            "\n",
            "\n",
            " tf.Tensor([0.25 0.4  0.5 ], shape=(3,), dtype=float64)\n"
          ],
          "name": "stdout"
        }
      ]
    },
    {
      "cell_type": "code",
      "metadata": {
        "colab": {
          "base_uri": "https://localhost:8080/"
        },
        "id": "XeJAH4DNo7EZ",
        "outputId": "8e900440-1f0c-4002-d75b-84e76c85f82c"
      },
      "source": [
        "c=tf.tensordot(a,b,axes=1)\n",
        "print(c)"
      ],
      "execution_count": 31,
      "outputs": [
        {
          "output_type": "stream",
          "text": [
            "tf.Tensor(32, shape=(), dtype=int32)\n"
          ],
          "name": "stdout"
        }
      ]
    },
    {
      "cell_type": "code",
      "metadata": {
        "colab": {
          "base_uri": "https://localhost:8080/"
        },
        "id": "6SEcni8ApPpj",
        "outputId": "94541395-786e-47cd-f0ff-9f24e4511771"
      },
      "source": [
        "c= a ** 3\n",
        "print(c) "
      ],
      "execution_count": 32,
      "outputs": [
        {
          "output_type": "stream",
          "text": [
            "tf.Tensor([ 1  8 27], shape=(3,), dtype=int32)\n"
          ],
          "name": "stdout"
        }
      ]
    },
    {
      "cell_type": "code",
      "metadata": {
        "colab": {
          "base_uri": "https://localhost:8080/"
        },
        "id": "rtoKTvgZpXUP",
        "outputId": "4ab03404-f532-4e9a-fe45-7c4ce9904159"
      },
      "source": [
        "#matrix multiplication \n",
        "x=tf.random.normal((2,3))\n",
        "y=tf.random.normal((3,4))\n",
        "\n",
        "print(x)\n",
        "print(\"\\n\",y)\n"
      ],
      "execution_count": 33,
      "outputs": [
        {
          "output_type": "stream",
          "text": [
            "tf.Tensor(\n",
            "[[ 1.9352764   0.9160396  -1.0772079 ]\n",
            " [ 0.20582496  0.55543363 -0.41472948]], shape=(2, 3), dtype=float32)\n",
            "\n",
            " tf.Tensor(\n",
            "[[-5.7283008e-01  1.1305737e-01 -1.2685891e+00 -4.1322929e-01]\n",
            " [ 1.2051585e+00 -2.6560253e-01  3.8203070e-01  4.8571885e-01]\n",
            " [ 9.9565834e-01  6.0113013e-04  8.6420739e-01 -7.5392634e-01]], shape=(3, 4), dtype=float32)\n"
          ],
          "name": "stdout"
        }
      ]
    },
    {
      "cell_type": "code",
      "metadata": {
        "colab": {
          "base_uri": "https://localhost:8080/"
        },
        "id": "08YyKrTJqYXe",
        "outputId": "6ec8c3c1-6847-41e8-ad9c-d86986f5b0f1"
      },
      "source": [
        "z=tf.matmul(x,y)\n",
        "\n",
        "u=x @ y\n",
        "print(z)\n",
        "print(\"\\n\",u)"
      ],
      "execution_count": 36,
      "outputs": [
        {
          "output_type": "stream",
          "text": [
            "tf.Tensor(\n",
            "[[-1.0771427  -0.02515272 -3.0360463   0.4573602 ]\n",
            " [ 0.13855393 -0.12450385 -0.40732688  0.49740714]], shape=(2, 4), dtype=float32)\n",
            "\n",
            " tf.Tensor(\n",
            "[[-1.0771427  -0.02515272 -3.0360463   0.4573602 ]\n",
            " [ 0.13855393 -0.12450385 -0.40732688  0.49740714]], shape=(2, 4), dtype=float32)\n"
          ],
          "name": "stdout"
        }
      ]
    },
    {
      "cell_type": "code",
      "metadata": {
        "colab": {
          "base_uri": "https://localhost:8080/"
        },
        "id": "OYw0UOMaruf0",
        "outputId": "956ed2f5-3298-4d19-e90b-24d414b33021"
      },
      "source": [
        "#slicing and indexing\n",
        "x=tf.constant([[1,2,3,4],[5,6,7,8]])\n",
        "print(x)\n",
        "print(\"\\n\",x.shape)"
      ],
      "execution_count": 39,
      "outputs": [
        {
          "output_type": "stream",
          "text": [
            "tf.Tensor(\n",
            "[[1 2 3 4]\n",
            " [5 6 7 8]], shape=(2, 4), dtype=int32)\n",
            "\n",
            " (2, 4)\n"
          ],
          "name": "stdout"
        }
      ]
    },
    {
      "cell_type": "code",
      "metadata": {
        "colab": {
          "base_uri": "https://localhost:8080/"
        },
        "id": "NNHZ7qHxsMB3",
        "outputId": "bb145e4b-60cb-4430-eebe-61ac91b414f0"
      },
      "source": [
        "print(x[0])"
      ],
      "execution_count": 40,
      "outputs": [
        {
          "output_type": "stream",
          "text": [
            "tf.Tensor([1 2 3 4], shape=(4,), dtype=int32)\n"
          ],
          "name": "stdout"
        }
      ]
    },
    {
      "cell_type": "code",
      "metadata": {
        "colab": {
          "base_uri": "https://localhost:8080/"
        },
        "id": "tNYiTHoSsTeB",
        "outputId": "0ab9d8d2-5eef-448a-b767-de885126d69b"
      },
      "source": [
        "print(x[0,:])"
      ],
      "execution_count": 41,
      "outputs": [
        {
          "output_type": "stream",
          "text": [
            "tf.Tensor([1 2 3 4], shape=(4,), dtype=int32)\n"
          ],
          "name": "stdout"
        }
      ]
    },
    {
      "cell_type": "code",
      "metadata": {
        "colab": {
          "base_uri": "https://localhost:8080/"
        },
        "id": "mUADxRvxsWt5",
        "outputId": "bf517355-3d66-4ebb-9c14-583abe3b0fe3"
      },
      "source": [
        "print(x[:,0])"
      ],
      "execution_count": 42,
      "outputs": [
        {
          "output_type": "stream",
          "text": [
            "tf.Tensor([1 5], shape=(2,), dtype=int32)\n"
          ],
          "name": "stdout"
        }
      ]
    },
    {
      "cell_type": "code",
      "metadata": {
        "colab": {
          "base_uri": "https://localhost:8080/"
        },
        "id": "aw1r1JV4sZ8O",
        "outputId": "864584a7-eb80-4228-aa8b-6e587abf11fe"
      },
      "source": [
        "print(x[:,2:4])"
      ],
      "execution_count": 43,
      "outputs": [
        {
          "output_type": "stream",
          "text": [
            "tf.Tensor(\n",
            "[[3 4]\n",
            " [7 8]], shape=(2, 2), dtype=int32)\n"
          ],
          "name": "stdout"
        }
      ]
    },
    {
      "cell_type": "code",
      "metadata": {
        "colab": {
          "base_uri": "https://localhost:8080/"
        },
        "id": "Qit12dcssjpW",
        "outputId": "478ab034-1a9d-4b27-9248-bcb7952a1020"
      },
      "source": [
        "#reshaping\n",
        "x=tf.constant([[1,2,3],[4,6,7]])\n",
        "print(x)\n",
        "print(\"\\n\",x.shape)"
      ],
      "execution_count": 44,
      "outputs": [
        {
          "output_type": "stream",
          "text": [
            "tf.Tensor(\n",
            "[[1 2 3]\n",
            " [4 6 7]], shape=(2, 3), dtype=int32)\n",
            "\n",
            " (2, 3)\n"
          ],
          "name": "stdout"
        }
      ]
    },
    {
      "cell_type": "code",
      "metadata": {
        "colab": {
          "base_uri": "https://localhost:8080/"
        },
        "id": "bM_XvK8ytRPH",
        "outputId": "57812e11-7ba0-4191-a00a-7f2cbafca979"
      },
      "source": [
        "y=tf.reshape(x,(3,2))\n",
        "print(y)"
      ],
      "execution_count": 46,
      "outputs": [
        {
          "output_type": "stream",
          "text": [
            "tf.Tensor(\n",
            "[[1 2]\n",
            " [3 4]\n",
            " [6 7]], shape=(3, 2), dtype=int32)\n"
          ],
          "name": "stdout"
        }
      ]
    },
    {
      "cell_type": "code",
      "metadata": {
        "colab": {
          "base_uri": "https://localhost:8080/"
        },
        "id": "qGSzWpw5thO5",
        "outputId": "5fe3f67e-4774-450e-d00b-afa6e67ea9b4"
      },
      "source": [
        "y=tf.reshape(x,(6))\n",
        "print(y)"
      ],
      "execution_count": 48,
      "outputs": [
        {
          "output_type": "stream",
          "text": [
            "tf.Tensor([1 2 3 4 6 7], shape=(6,), dtype=int32)\n"
          ],
          "name": "stdout"
        }
      ]
    },
    {
      "cell_type": "code",
      "metadata": {
        "id": "1vcEjUvNtdQW"
      },
      "source": [
        "y=tf.reshape(x,(7))# will give error: InvalidArgumentError: Input to reshape is a tensor with 6 values, but the requested shape has 7 [Op:Reshape]\n",
        "print(y)"
      ],
      "execution_count": null,
      "outputs": []
    },
    {
      "cell_type": "code",
      "metadata": {
        "colab": {
          "base_uri": "https://localhost:8080/"
        },
        "id": "kbvC_MOJtrX-",
        "outputId": "5ac03543-459e-41a4-fbbd-dbf64952ca76"
      },
      "source": [
        "y=tf.reshape(x,(-1,2)) #-1 automatically takes best value to give op\n",
        "print(y)"
      ],
      "execution_count": 49,
      "outputs": [
        {
          "output_type": "stream",
          "text": [
            "tf.Tensor(\n",
            "[[1 2]\n",
            " [3 4]\n",
            " [6 7]], shape=(3, 2), dtype=int32)\n"
          ],
          "name": "stdout"
        }
      ]
    },
    {
      "cell_type": "code",
      "metadata": {
        "colab": {
          "base_uri": "https://localhost:8080/"
        },
        "id": "_IQ2PSFwvNYz",
        "outputId": "bb2d522a-7e11-4afa-b58d-4c0d627571c0"
      },
      "source": [
        "#tensors to numpy\n",
        "x=tf.constant([1,2,3])\n",
        "print(\"\\nx=\",x)\n",
        "print(\"\\ntype is\",type(x))\n",
        "\n",
        "y=x.numpy()\n",
        "print(\"\\ny=\",y)\n",
        "print(\"\\ntype is \",type(y))\n"
      ],
      "execution_count": 60,
      "outputs": [
        {
          "output_type": "stream",
          "text": [
            "\n",
            "x= tf.Tensor([1 2 3], shape=(3,), dtype=int32)\n",
            "\n",
            "type is <class 'tensorflow.python.framework.ops.EagerTensor'>\n",
            "\n",
            "y= [1 2 3]\n",
            "\n",
            "type is  <class 'numpy.ndarray'>\n"
          ],
          "name": "stdout"
        }
      ]
    },
    {
      "cell_type": "code",
      "metadata": {
        "colab": {
          "base_uri": "https://localhost:8080/"
        },
        "id": "zWa8_snLwY_W",
        "outputId": "b428d02d-e78d-4326-e064-910efe07f6ed"
      },
      "source": [
        "#numpy to tensors\n",
        "z=tf.convert_to_tensor(y)\n",
        "print(\"\\nz=\",z)\n",
        "print(\"\\ntype is \",type(z))\n"
      ],
      "execution_count": 61,
      "outputs": [
        {
          "output_type": "stream",
          "text": [
            "\n",
            "z= tf.Tensor([1 2 3], shape=(3,), dtype=int32)\n",
            "\n",
            "type is  <class 'tensorflow.python.framework.ops.EagerTensor'>\n"
          ],
          "name": "stdout"
        }
      ]
    },
    {
      "cell_type": "code",
      "metadata": {
        "colab": {
          "base_uri": "https://localhost:8080/"
        },
        "id": "TSRtzChAxgtk",
        "outputId": "d65b5558-fb66-49ef-bbae-ab2002123092"
      },
      "source": [
        "#string tensor\n",
        "a=tf.constant(['patrik','jose'])\n",
        "print(a)"
      ],
      "execution_count": 62,
      "outputs": [
        {
          "output_type": "stream",
          "text": [
            "tf.Tensor([b'patrik' b'jose'], shape=(2,), dtype=string)\n"
          ],
          "name": "stdout"
        }
      ]
    },
    {
      "cell_type": "code",
      "metadata": {
        "colab": {
          "base_uri": "https://localhost:8080/"
        },
        "id": "lAMshONCx2T5",
        "outputId": "f6579ccb-a20f-4056-bd2f-b3e03d95b88a"
      },
      "source": [
        "a=tf.Variable([1,2,3])\n",
        "print(\"\\n\",a)\n",
        "\n",
        "print(type(a))\n",
        "print(a.dtype)"
      ],
      "execution_count": 64,
      "outputs": [
        {
          "output_type": "stream",
          "text": [
            "\n",
            " <tf.Variable 'Variable:0' shape=(3,) dtype=int32, numpy=array([1, 2, 3], dtype=int32)>\n",
            "<class 'tensorflow.python.ops.resource_variable_ops.ResourceVariable'>\n",
            "<dtype: 'int32'>\n"
          ],
          "name": "stdout"
        }
      ]
    }
  ]
}